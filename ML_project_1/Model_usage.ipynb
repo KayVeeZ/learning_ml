{
 "cells": [
  {
   "cell_type": "code",
   "execution_count": 4,
   "id": "1ada55ee-9014-441f-a408-eaa03ba9be4e",
   "metadata": {},
   "outputs": [],
   "source": [
    "import numpy as np\n",
    "import pandas as pd\n",
    "from joblib import load"
   ]
  },
  {
   "cell_type": "code",
   "execution_count": 2,
   "id": "6bc80dd2-f307-4caf-8296-05d81a62ac61",
   "metadata": {},
   "outputs": [],
   "source": [
    "#load model\n",
    "model = load('Dragon.joblib')"
   ]
  },
  {
   "cell_type": "code",
   "execution_count": 9,
   "id": "502fadee-3fcd-4911-9047-d2da4b4c78c3",
   "metadata": {},
   "outputs": [
    {
     "data": {
      "text/plain": [
       "array([22.508])"
      ]
     },
     "execution_count": 9,
     "metadata": {},
     "output_type": "execute_result"
    }
   ],
   "source": [
    "input = np.array([[-0.43942006,  3.12628155, -1.12165014, -0.27288841, -1.42262747,\n",
    "       -0.24141041, -1.31238772,  2.61111401, -1.0016859 , -0.5778192 ,\n",
    "       -0.97491834,  0.41164221, -0.86091034]]) \n",
    "model.predict(input)"
   ]
  },
  {
   "cell_type": "markdown",
   "id": "5769f141-3099-4a25-9696-935c4427eb0a",
   "metadata": {},
   "source": [
    "## Using the model"
   ]
  },
  {
   "cell_type": "code",
   "execution_count": 10,
   "id": "4ac01e9c-2ef5-4368-83e3-69f56a865b5e",
   "metadata": {},
   "outputs": [
    {
     "data": {
      "text/plain": [
       "array([42.323])"
      ]
     },
     "execution_count": 10,
     "metadata": {},
     "output_type": "execute_result"
    }
   ],
   "source": [
    "input = np.array([[-0.43942006,  3.12628155, -1.12165014, -0.27288841, -1.42262747,\n",
    "       10.24141041, -1.31238772,  2.61111401, -1.0016859 , -0.5778192 ,\n",
    "       -0.97491834,  0.41164221, -0.86091034]]) \n",
    "model.predict(input)"
   ]
  },
  {
   "cell_type": "code",
   "execution_count": 14,
   "id": "8c915185-097e-4eef-9e6f-6e203b7bd572",
   "metadata": {},
   "outputs": [
    {
     "data": {
      "text/plain": [
       "array([21.193])"
      ]
     },
     "execution_count": 14,
     "metadata": {},
     "output_type": "execute_result"
    }
   ],
   "source": [
    "input = np.array([[-0.43942006,  3.12628155, -1.12165014, -0.27288841, -1.42262747,\n",
    "       -10.04141041, -1.31238772,  2.61111401, -1.0016859 , -0.5778192 ,\n",
    "       -0.97491834,  0.41164221, -0.86091034]]) \n",
    "model.predict(input)"
   ]
  },
  {
   "cell_type": "code",
   "execution_count": null,
   "id": "3749f8f7-a025-4af4-ac89-a7c438beb230",
   "metadata": {},
   "outputs": [],
   "source": []
  }
 ],
 "metadata": {
  "kernelspec": {
   "display_name": "Python 3 (ipykernel)",
   "language": "python",
   "name": "python3"
  },
  "language_info": {
   "codemirror_mode": {
    "name": "ipython",
    "version": 3
   },
   "file_extension": ".py",
   "mimetype": "text/x-python",
   "name": "python",
   "nbconvert_exporter": "python",
   "pygments_lexer": "ipython3",
   "version": "3.11.8"
  }
 },
 "nbformat": 4,
 "nbformat_minor": 5
}
